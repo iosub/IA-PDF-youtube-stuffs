{
 "cells": [
  {
   "cell_type": "markdown",
   "metadata": {},
   "source": [
    "# Unstructured\n",
    "- https://unstructured.io/\n",
    "- https://unstructured-io.github.io/unstructured/index.html\n",
    "- https://docs.unstructured.io/api-reference/api-services/python-sdk\n"
   ]
  },
  {
   "cell_type": "markdown",
   "metadata": {},
   "source": [
    "## Setup"
   ]
  },
  {
   "cell_type": "code",
   "execution_count": 1,
   "metadata": {},
   "outputs": [],
   "source": [
    "%%capture\n",
    "%pip install \"unstructured[all-docs]\" unstructured-client watermark"
   ]
  },
  {
   "cell_type": "code",
   "execution_count": 1,
   "metadata": {},
   "outputs": [],
   "source": [
    "# Warning control\n",
    "import warnings\n",
    "warnings.filterwarnings('ignore')"
   ]
  },
  {
   "cell_type": "code",
   "execution_count": 2,
   "metadata": {},
   "outputs": [],
   "source": [
    "from IPython.display import JSON\n",
    "\n",
    "import json\n",
    "\n",
    "from unstructured_client import UnstructuredClient\n",
    "from unstructured_client.models import shared\n",
    "from unstructured_client.models.errors import SDKError\n",
    "\n",
    "from unstructured.partition.pdf import partition_pdf\n",
    "from unstructured.staging.base import dict_to_elements, elements_to_json"
   ]
  },
  {
   "cell_type": "code",
   "execution_count": 3,
   "metadata": {},
   "outputs": [],
   "source": [
    "%load_ext watermark"
   ]
  },
  {
   "cell_type": "code",
   "execution_count": 4,
   "metadata": {},
   "outputs": [],
   "source": [
    "import unstructured"
   ]
  },
  {
   "cell_type": "code",
   "execution_count": null,
   "metadata": {},
   "outputs": [],
   "source": [
    "%watermark --iversions"
   ]
  },
  {
   "cell_type": "markdown",
   "metadata": {},
   "source": [
    "## Initial exploration ( extract elements)"
   ]
  },
  {
   "cell_type": "code",
   "execution_count": null,
   "metadata": {},
   "outputs": [],
   "source": [
    "import unstructured.partition\n",
    "\n",
    "help(unstructured.partition)"
   ]
  },
  {
   "cell_type": "code",
   "execution_count": 7,
   "metadata": {},
   "outputs": [],
   "source": [
    "from unstructured.partition.pdf import partition_pdf\n",
    "\n",
    "# Specify the path to your PDF file\n",
    "filename = \"data/gpt4all.pdf\"\n",
    "filename = \"data/t1.pdf\"\n",
    "\n",
    "# Call the partition_pdf function\n",
    "# Returns a List[Element] present in the pages of the parsed pdf document\n",
    "elements = partition_pdf(filename)\n",
    "\n",
    "# Now, elements is a list of all elements present in the pages of the parsed pdf document"
   ]
  },
  {
   "cell_type": "code",
   "execution_count": null,
   "metadata": {},
   "outputs": [],
   "source": [
    "elements"
   ]
  },
  {
   "cell_type": "code",
   "execution_count": null,
   "metadata": {},
   "outputs": [],
   "source": [
    "len(elements)"
   ]
  },
  {
   "cell_type": "code",
   "execution_count": null,
   "metadata": {},
   "outputs": [],
   "source": [
    "element_dict = [el.to_dict() for el in elements]\n",
    "output = json.dumps(element_dict, indent=2)\n",
    "print(output)"
   ]
  },
  {
   "cell_type": "code",
   "execution_count": null,
   "metadata": {},
   "outputs": [],
   "source": [
    "unique_types = set()\n",
    "\n",
    "for item in element_dict:\n",
    "    unique_types.add(item['type'])\n",
    "\n",
    "print(unique_types)"
   ]
  },
  {
   "cell_type": "markdown",
   "metadata": {},
   "source": [
    "##### We don't see `Image`, image information is not extracted as we expected, lets use different strategy."
   ]
  },
  {
   "cell_type": "markdown",
   "metadata": {},
   "source": [
    "### Image extraction from PDF\n",
    "- Now let’s say that your PDF has tables and let’s say you want to preserve the image data. \n",
    "- You will have to specify the [strategy](https://unstructured-io.github.io/unstructured/best_practices/strategies.html) parameter as `hi_res`. This will use a combination of computer vision and Optical Character Recognition (OCR) to extract the tables and maintain the structure. \n",
    "\n",
    "> Note: For even better image extraction Unstructured offers an API that improves upon the existing open source models.\n",
    "\n",
    "> Depending upon machine, you might face different module / library issues, these links might help\n",
    "- https://stackoverflow.com/questions/59690698/modulenotfounderror-no-module-named-lzma-when-building-python-using-pyenv-on\n",
    "- https://unstructured-io.github.io/unstructured/installation/full_installation.html"
   ]
  },
  {
   "cell_type": "code",
   "execution_count": 12,
   "metadata": {},
   "outputs": [],
   "source": [
    "from unstructured.partition.pdf import partition_pdf\n",
    "\n",
    "elements = partition_pdf(filename=filename,\n",
    "                     strategy='hi_res',\n",
    "           )"
   ]
  },
  {
   "cell_type": "code",
   "execution_count": null,
   "metadata": {},
   "outputs": [],
   "source": [
    "element_dict = [el.to_dict() for el in elements]\n",
    "\n",
    "unique_types = set()\n",
    "\n",
    "for item in element_dict:\n",
    "    unique_types.add(item['type'])\n",
    "\n",
    "print(unique_types)"
   ]
  },
  {
   "cell_type": "code",
   "execution_count": null,
   "metadata": {},
   "outputs": [],
   "source": [
    "images = [el for el in elements if el.category == \"Image\"]\n",
    "\n",
    "print(images[4].text)\n",
    "print(images[4].metadata.text_as_html)"
   ]
  },
  {
   "cell_type": "code",
   "execution_count": null,
   "metadata": {},
   "outputs": [],
   "source": [
    "images"
   ]
  },
  {
   "cell_type": "code",
   "execution_count": null,
   "metadata": {},
   "outputs": [],
   "source": [
    "len(images)"
   ]
  },
  {
   "cell_type": "markdown",
   "metadata": {},
   "source": [
    "## Another way ( extract / display images + elements )"
   ]
  },
  {
   "cell_type": "code",
   "execution_count": null,
   "metadata": {},
   "outputs": [],
   "source": [
    "partition_pdf??"
   ]
  },
  {
   "cell_type": "code",
   "execution_count": null,
   "metadata": {},
   "outputs": [],
   "source": [
    "# Get elements\n",
    "path = \"images\"\n",
    "raw_pdf_elements = partition_pdf(filename=filename,\n",
    "                                 # Unstructured first finds embedded image blocks\n",
    "                                 # Only applicable if `strategy=hi_res`\n",
    "                                 extract_images_in_pdf=True,\n",
    "                                 strategy = \"hi_res\",\n",
    "                                 infer_table_structure=True,\n",
    "                                 # Only applicable if `strategy=hi_res`\n",
    "                                 extract_image_block_output_dir = path,\n",
    "                                 )"
   ]
  },
  {
   "cell_type": "code",
   "execution_count": null,
   "metadata": {},
   "outputs": [],
   "source": [
    "element_dict = [el.to_dict() for el in raw_pdf_elements]\n",
    "\n",
    "unique_types = set()\n",
    "\n",
    "for item in element_dict:\n",
    "    unique_types.add(item['type'])\n",
    "\n",
    "print(unique_types)"
   ]
  },
  {
   "cell_type": "code",
   "execution_count": null,
   "metadata": {},
   "outputs": [],
   "source": [
    "images = [el for el in raw_pdf_elements if el.category == \"Image\"]\n",
    "\n",
    "print(images[4].text)\n",
    "print(images[4].metadata.text_as_html)"
   ]
  },
  {
   "cell_type": "markdown",
   "metadata": {},
   "source": [
    "### Let's display the images extracted"
   ]
  },
  {
   "cell_type": "code",
   "execution_count": null,
   "metadata": {},
   "outputs": [],
   "source": [
    "from IPython.display import Image, display\n",
    "import glob\n",
    "\n",
    "# Define the path to the folder containing the images\n",
    "folder_path = \"images/*.jpg\"  # Update the file type as needed\n",
    "\n",
    "# Use glob to search for JPG files in the specified folder\n",
    "image_files = glob.glob(folder_path)\n",
    "\n",
    "# Iterate through the list of image files and display each image inline\n",
    "for image_file in image_files:\n",
    "    display(Image(filename=image_file))"
   ]
  },
  {
   "cell_type": "markdown",
   "metadata": {},
   "source": [
    "## Multi-modal (explain image using Llava)\n",
    "#### Now, lets plugin in LangChain to explaiin the image using `Llava` via `Ollama`. More info in this [link](https://python.langchain.com/v0.1/docs/integrations/llms/ollama/)\n",
    "#### [Ollama Playlist](https://www.youtube.com/playlist?list=PLz-qytj7eIWX-bpcRtvkixvo9fuejVr8y)"
   ]
  },
  {
   "cell_type": "code",
   "execution_count": 24,
   "metadata": {},
   "outputs": [],
   "source": [
    "%%capture\n",
    "%pip install langchain langchain_core langchain_community"
   ]
  },
  {
   "cell_type": "code",
   "execution_count": 25,
   "metadata": {},
   "outputs": [],
   "source": [
    "from langchain_community.llms import Ollama"
   ]
  },
  {
   "cell_type": "code",
   "execution_count": null,
   "metadata": {},
   "outputs": [],
   "source": [
    "Ollama??"
   ]
  },
  {
   "cell_type": "code",
   "execution_count": 27,
   "metadata": {},
   "outputs": [],
   "source": [
    "llm = Ollama(model=\"llama3.1:8b\")#llava:7b\")"
   ]
  },
  {
   "cell_type": "code",
   "execution_count": null,
   "metadata": {},
   "outputs": [],
   "source": [
    "import PIL\n",
    "print(PIL.__version__)"
   ]
  },
  {
   "cell_type": "code",
   "execution_count": 35,
   "metadata": {},
   "outputs": [
    {
     "data": {
      "text/html": [
       "<img src=\"data:image/jpeg;base64,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\" />"
      ],
      "text/plain": [
       "<IPython.core.display.HTML object>"
      ]
     },
     "metadata": {},
     "output_type": "display_data"
    }
   ],
   "source": [
    "import base64\n",
    "from io import BytesIO\n",
    "\n",
    "from IPython.display import HTML, display\n",
    "from PIL import Image\n",
    "\n",
    "\n",
    "def convert_to_base64(pil_image):\n",
    "    \"\"\"\n",
    "    Convert PIL images to Base64 encoded strings\n",
    "\n",
    "    :param pil_image: PIL image\n",
    "    :return: Re-sized Base64 string\n",
    "    \"\"\"\n",
    "\n",
    "    buffered = BytesIO()\n",
    "    pil_image.save(buffered, format=\"JPEG\")  # You can change the format if needed\n",
    "    img_str = base64.b64encode(buffered.getvalue()).decode(\"utf-8\")\n",
    "    return img_str\n",
    "\n",
    "\n",
    "def plt_img_base64(img_base64):\n",
    "    \"\"\"\n",
    "    Display base64 encoded string as image\n",
    "\n",
    "    :param img_base64:  Base64 string\n",
    "    \"\"\"\n",
    "    # Create an HTML img tag with the base64 string as the source\n",
    "    image_html = f'<img src=\"data:image/jpeg;base64,{img_base64}\" />'\n",
    "    # Display the image by rendering the HTML\n",
    "    display(HTML(image_html))\n",
    "\n",
    "\n",
    "file_path = \"./images/figure-4-5.jpg\"\n",
    "pil_image = Image.open(file_path)\n",
    "image_b64 = convert_to_base64(pil_image)\n",
    "plt_img_base64(image_b64)"
   ]
  },
  {
   "cell_type": "code",
   "execution_count": null,
   "metadata": {},
   "outputs": [],
   "source": [
    "llm_with_image_context = llm.bind(images=[image_b64])\n",
    "llm_with_image_context.invoke(\"Explain the image\")"
   ]
  },
  {
   "cell_type": "code",
   "execution_count": null,
   "metadata": {},
   "outputs": [],
   "source": []
  }
 ],
 "metadata": {
  "kernelspec": {
   "display_name": ".venv",
   "language": "python",
   "name": "python3"
  },
  "language_info": {
   "codemirror_mode": {
    "name": "ipython",
    "version": 3
   },
   "file_extension": ".py",
   "mimetype": "text/x-python",
   "name": "python",
   "nbconvert_exporter": "python",
   "pygments_lexer": "ipython3",
   "version": "3.12.3"
  }
 },
 "nbformat": 4,
 "nbformat_minor": 2
}
